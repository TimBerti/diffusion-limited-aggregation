{
 "cells": [
  {
   "cell_type": "code",
   "execution_count": 47,
   "metadata": {},
   "outputs": [],
   "source": [
    "import h5py\n",
    "import pandas as pd\n",
    "import numpy as np\n",
    "import os\n",
    "\n",
    "from tqdm import tqdm"
   ]
  },
  {
   "cell_type": "code",
   "execution_count": 48,
   "metadata": {},
   "outputs": [
    {
     "name": "stderr",
     "output_type": "stream",
     "text": [
      "100%|██████████| 1000/1000 [26:37<00:00,  1.60s/it]\n"
     ]
    }
   ],
   "source": [
    "def convert_to_hdf5(input_dir, output_file):\n",
    "    file_names = [f for f in os.listdir(input_dir) if f.endswith('.parquet')]\n",
    "    size = len(file_names) * 1000\n",
    "    with h5py.File(output_file, 'w') as h5f:\n",
    "        images_dset = h5f.create_dataset('images', (size, 1, 150, 150), dtype='float32')\n",
    "        diffs_dset = h5f.create_dataset('diffs', (size,), dtype='int')\n",
    "        \n",
    "        idx = 0\n",
    "        for file_name in tqdm(file_names):\n",
    "            X = pd.read_parquet(os.path.join(input_dir, file_name)).to_numpy()\n",
    "            diffs = X[1:] - X[:-1]\n",
    "            diff_index = np.argmax(diffs, axis=1)\n",
    "            diffs_dset[idx:idx + len(diffs)] = diff_index\n",
    "\n",
    "            images = X.reshape(-1, 1, 150, 150)\n",
    "            images_dset[idx:idx + len(diffs)] = images[:-1]\n",
    "            idx = idx + len(diffs)\n",
    "\n",
    "input_dir = '../data'\n",
    "output_file = '../data/images_diffs.hdf5'\n",
    "convert_to_hdf5(input_dir, output_file)"
   ]
  }
 ],
 "metadata": {
  "kernelspec": {
   "display_name": "p11",
   "language": "python",
   "name": "python3"
  },
  "language_info": {
   "codemirror_mode": {
    "name": "ipython",
    "version": 3
   },
   "file_extension": ".py",
   "mimetype": "text/x-python",
   "name": "python",
   "nbconvert_exporter": "python",
   "pygments_lexer": "ipython3",
   "version": "3.11.4"
  }
 },
 "nbformat": 4,
 "nbformat_minor": 2
}
