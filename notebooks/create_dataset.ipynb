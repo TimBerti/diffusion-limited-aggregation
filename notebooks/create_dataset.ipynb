{
 "cells": [
  {
   "cell_type": "code",
   "execution_count": 1,
   "metadata": {},
   "outputs": [],
   "source": [
    "import pandas as pd\n",
    "\n",
    "import torch\n",
    "from torch_geometric.data import Data, Dataset\n",
    "from torch_geometric.loader import DataLoader\n",
    "\n",
    "from joblib import Parallel, delayed\n",
    "\n",
    "import os\n",
    "import sys\n",
    "sys.path.append(os.path.join(os.path.abspath(''), '..'))\n",
    "from utils.graph import grid_to_graph"
   ]
  },
  {
   "cell_type": "code",
   "execution_count": 3,
   "metadata": {},
   "outputs": [
    {
     "name": "stderr",
     "output_type": "stream",
     "text": [
      "[Parallel(n_jobs=4)]: Using backend LokyBackend with 4 concurrent workers.\n"
     ]
    },
    {
     "name": "stderr",
     "output_type": "stream",
     "text": [
      "[Parallel(n_jobs=4)]: Done   5 tasks      | elapsed:  4.2min\n",
      "[Parallel(n_jobs=4)]: Done  10 tasks      | elapsed:  7.1min\n",
      "[Parallel(n_jobs=4)]: Done  17 tasks      | elapsed: 11.3min\n",
      "[Parallel(n_jobs=4)]: Done  24 tasks      | elapsed: 14.9min\n",
      "[Parallel(n_jobs=4)]: Done  33 tasks      | elapsed: 18.5min\n",
      "[Parallel(n_jobs=4)]: Done  42 tasks      | elapsed: 21.8min\n",
      "[Parallel(n_jobs=4)]: Done  53 tasks      | elapsed: 26.4min\n",
      "[Parallel(n_jobs=4)]: Done  64 tasks      | elapsed: 32.0min\n",
      "[Parallel(n_jobs=4)]: Done  77 tasks      | elapsed: 37.0min\n",
      "[Parallel(n_jobs=4)]: Done  90 tasks      | elapsed: 44.6min\n",
      "[Parallel(n_jobs=4)]: Done 100 out of 100 | elapsed: 49.2min finished\n"
     ]
    },
    {
     "data": {
      "text/plain": [
       "[None,\n",
       " None,\n",
       " None,\n",
       " None,\n",
       " None,\n",
       " None,\n",
       " None,\n",
       " None,\n",
       " None,\n",
       " None,\n",
       " None,\n",
       " None,\n",
       " None,\n",
       " None,\n",
       " None,\n",
       " None,\n",
       " None,\n",
       " None,\n",
       " None,\n",
       " None,\n",
       " None,\n",
       " None,\n",
       " None,\n",
       " None,\n",
       " None,\n",
       " None,\n",
       " None,\n",
       " None,\n",
       " None,\n",
       " None,\n",
       " None,\n",
       " None,\n",
       " None,\n",
       " None,\n",
       " None,\n",
       " None,\n",
       " None,\n",
       " None,\n",
       " None,\n",
       " None,\n",
       " None,\n",
       " None,\n",
       " None,\n",
       " None,\n",
       " None,\n",
       " None,\n",
       " None,\n",
       " None,\n",
       " None,\n",
       " None,\n",
       " None,\n",
       " None,\n",
       " None,\n",
       " None,\n",
       " None,\n",
       " None,\n",
       " None,\n",
       " None,\n",
       " None,\n",
       " None,\n",
       " None,\n",
       " None,\n",
       " None,\n",
       " None,\n",
       " None,\n",
       " None,\n",
       " None,\n",
       " None,\n",
       " None,\n",
       " None,\n",
       " None,\n",
       " None,\n",
       " None,\n",
       " None,\n",
       " None,\n",
       " None,\n",
       " None,\n",
       " None,\n",
       " None,\n",
       " None,\n",
       " None,\n",
       " None,\n",
       " None,\n",
       " None,\n",
       " None,\n",
       " None,\n",
       " None,\n",
       " None,\n",
       " None,\n",
       " None,\n",
       " None,\n",
       " None,\n",
       " None,\n",
       " None,\n",
       " None,\n",
       " None,\n",
       " None,\n",
       " None,\n",
       " None,\n",
       " None]"
      ]
     },
     "execution_count": 3,
     "metadata": {},
     "output_type": "execute_result"
    }
   ],
   "source": [
    "def process_id(id):\n",
    "    grid_df = pd.read_parquet(f'../data/{id}_grid.parquet')\n",
    "    distribution_df = pd.read_parquet(f'../data/{id}_distribution.parquet')\n",
    "    for j, (grid, distribution) in enumerate(zip(grid_df.to_numpy(), distribution_df.to_numpy())):\n",
    "        node_positions, edges, mask, input_nodes, target_nodes = grid_to_graph(grid.reshape(150, 150), distribution.reshape(150, 150))\n",
    "        node_positions = torch.tensor(node_positions, dtype=torch.long)\n",
    "        edges = torch.tensor(edges, dtype=torch.long).t().contiguous()\n",
    "        mask = torch.tensor(mask, dtype=torch.bool)\n",
    "        input_nodes = torch.tensor(input_nodes, dtype=torch.float32)\n",
    "        target_nodes = torch.tensor(target_nodes, dtype=torch.float32)\n",
    "        \n",
    "        data = Data(x=input_nodes, edge_index=edges, mask=mask, pos=node_positions, y=target_nodes)\n",
    "        torch.save(data, f'../data/processed/{id}_{j}.pt')\n",
    "\n",
    "filenames = os.listdir('../data')\n",
    "ids = {f.split('_')[0] for f in filenames if f.endswith('.parquet')}\n",
    "\n",
    "Parallel(n_jobs=4, verbose=10)(delayed(process_id)(id) for id in ids);"
   ]
  },
  {
   "cell_type": "code",
   "execution_count": 4,
   "metadata": {},
   "outputs": [
    {
     "name": "stdout",
     "output_type": "stream",
     "text": [
      "100000\n"
     ]
    }
   ],
   "source": [
    "class GraphDataset(Dataset):\n",
    "    def __init__(self, root):\n",
    "        super(GraphDataset, self).__init__(root)\n",
    "        self.root = root\n",
    "        self.file_names = os.listdir(root)\n",
    "\n",
    "    def len(self):\n",
    "        return len(self.file_names)\n",
    "\n",
    "    def get(self, idx):\n",
    "        return torch.load(os.path.join(self.root, self.file_names[idx]))\n",
    "    \n",
    "dataset = GraphDataset('../data/processed')\n",
    "print(len(dataset))"
   ]
  },
  {
   "cell_type": "code",
   "execution_count": 5,
   "metadata": {},
   "outputs": [
    {
     "name": "stdout",
     "output_type": "stream",
     "text": [
      "DataBatch(x=[35443, 13], edge_index=[2, 119356], y=[35443, 1], pos=[35443, 2], mask=[35443, 1], batch=[35443], ptr=[33])\n"
     ]
    }
   ],
   "source": [
    "loader = DataLoader(dataset, batch_size=32, shuffle=True)\n",
    "for batch in loader:\n",
    "    print(batch)\n",
    "    break"
   ]
  }
 ],
 "metadata": {
  "kernelspec": {
   "display_name": "p11",
   "language": "python",
   "name": "python3"
  },
  "language_info": {
   "codemirror_mode": {
    "name": "ipython",
    "version": 3
   },
   "file_extension": ".py",
   "mimetype": "text/x-python",
   "name": "python",
   "nbconvert_exporter": "python",
   "pygments_lexer": "ipython3",
   "version": "3.11.7"
  }
 },
 "nbformat": 4,
 "nbformat_minor": 2
}
