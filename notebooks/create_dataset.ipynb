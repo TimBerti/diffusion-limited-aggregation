{
 "cells": [
  {
   "cell_type": "code",
   "execution_count": 1,
   "metadata": {},
   "outputs": [],
   "source": [
    "import pandas as pd\n",
    "\n",
    "import torch\n",
    "from torch_geometric.data import Data, Dataset\n",
    "from torch_geometric.loader import DataLoader\n",
    "\n",
    "\n",
    "from tqdm import tqdm\n",
    "\n",
    "import os\n",
    "import sys\n",
    "sys.path.append(os.path.join(os.path.abspath(''), '..'))\n",
    "from utils.graph import grid_to_graph"
   ]
  },
  {
   "cell_type": "code",
   "execution_count": 2,
   "metadata": {},
   "outputs": [
    {
     "name": "stderr",
     "output_type": "stream",
     "text": [
      "  0%|          | 0/100 [02:29<?, ?it/s]\n"
     ]
    }
   ],
   "source": [
    "filenames = os.listdir('../data')\n",
    "ids = {f.split('_')[0] for f in filenames if f.endswith('.parquet')}\n",
    "\n",
    "for id in tqdm(ids):\n",
    "    grid_df = pd.read_parquet(f'../data/{id}_grid.parquet')\n",
    "    distribution_df = pd.read_parquet(f'../data/{id}_distribution.parquet')\n",
    "    for j, (grid, distribution) in enumerate(zip(grid_df.to_numpy(), distribution_df.to_numpy())):\n",
    "        node_positions, edges, mask, input_nodes, target_nodes = grid_to_graph(grid.reshape(150, 150), distribution.reshape(150, 150))\n",
    "        node_positions = torch.tensor(node_positions, dtype=torch.long)\n",
    "        edges = torch.tensor(edges, dtype=torch.long).t().contiguous()\n",
    "        mask = torch.tensor(mask, dtype=torch.bool)\n",
    "        input_nodes = torch.tensor(input_nodes, dtype=torch.float32)\n",
    "        target_nodes = torch.tensor(target_nodes, dtype=torch.float32)\n",
    "        \n",
    "        data = Data(x=input_nodes, edge_index=edges, mask=mask, pos=node_positions, y=target_nodes)\n",
    "        torch.save(data, f'../data/processed/{id}_{j}.pt')\n",
    "    break"
   ]
  },
  {
   "cell_type": "code",
   "execution_count": 3,
   "metadata": {},
   "outputs": [
    {
     "name": "stdout",
     "output_type": "stream",
     "text": [
      "1000\n"
     ]
    }
   ],
   "source": [
    "class GraphDataset(Dataset):\n",
    "    def __init__(self, root):\n",
    "        super(GraphDataset, self).__init__(root)\n",
    "        self.root = root\n",
    "        self.file_names = os.listdir(root)\n",
    "\n",
    "    def len(self):\n",
    "        return len(self.file_names)\n",
    "\n",
    "    def get(self, idx):\n",
    "        return torch.load(os.path.join(self.root, self.file_names[idx]))\n",
    "    \n",
    "dataset = GraphDataset('../data/processed')\n",
    "print(len(dataset))"
   ]
  },
  {
   "cell_type": "code",
   "execution_count": 4,
   "metadata": {},
   "outputs": [
    {
     "name": "stdout",
     "output_type": "stream",
     "text": [
      "DataBatch(x=[36898, 13], edge_index=[2, 123532], y=[36898, 1], pos=[36898, 2], mask=[36898, 1], batch=[36898], ptr=[33])\n"
     ]
    }
   ],
   "source": [
    "loader = DataLoader(dataset, batch_size=32, shuffle=True)\n",
    "for batch in loader:\n",
    "    print(batch)\n",
    "    break"
   ]
  }
 ],
 "metadata": {
  "kernelspec": {
   "display_name": "p11",
   "language": "python",
   "name": "python3"
  },
  "language_info": {
   "codemirror_mode": {
    "name": "ipython",
    "version": 3
   },
   "file_extension": ".py",
   "mimetype": "text/x-python",
   "name": "python",
   "nbconvert_exporter": "python",
   "pygments_lexer": "ipython3",
   "version": "3.11.7"
  }
 },
 "nbformat": 4,
 "nbformat_minor": 2
}
